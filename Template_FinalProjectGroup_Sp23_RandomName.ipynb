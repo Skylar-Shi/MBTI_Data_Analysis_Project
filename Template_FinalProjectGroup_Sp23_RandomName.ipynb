{
 "cells": [
  {
   "attachments": {},
   "cell_type": "markdown",
   "metadata": {},
   "source": [
    "# COGS 108 - Final Project (change this to your project's title)"
   ]
  },
  {
   "attachments": {},
   "cell_type": "markdown",
   "metadata": {},
   "source": [
    "## Permissions\n",
    "\n",
    "Place an `X` in the appropriate bracket below to specify if you would like your group's project to be made available to the public. (Note that student names will be included (but PIDs will be scraped from any groups who include their PIDs).\n",
    "\n",
    "* [  ] YES - make available\n",
    "* [  ] NO - keep private"
   ]
  },
  {
   "attachments": {},
   "cell_type": "markdown",
   "metadata": {},
   "source": [
    "# Overview"
   ]
  },
  {
   "attachments": {},
   "cell_type": "markdown",
   "metadata": {},
   "source": [
    "*Fill in your overview here*"
   ]
  },
  {
   "attachments": {},
   "cell_type": "markdown",
   "metadata": {},
   "source": [
    "# Names\n",
    "\n",
    "- Jinyu Li\n",
    "- Yutian Shi\n",
    "- Weiwen Dong\n",
    "- Mingyi Li"
   ]
  },
  {
   "attachments": {},
   "cell_type": "markdown",
   "metadata": {},
   "source": [
    "<a id='research_question'></a>\n",
    "# Research Question"
   ]
  },
  {
   "attachments": {},
   "cell_type": "markdown",
   "metadata": {},
   "source": [
    "Do Twitter users’ four different Myers–Briggs MBTI personality types (Analysts: NT, Diplomats: NF, Sentinels: SJ, Explorers: SP) influence their social media activeness and engagement? \n",
    "\n",
    "Within each aspect of the four dimensions (Mind: E/I, Energy: N/S, Nature: F/T, Tactics: J/P), are people with certain personality traits being more active and engaged than others, such as Extroverts versus Introverts within the Mind aspect?"
   ]
  },
  {
   "attachments": {},
   "cell_type": "markdown",
   "metadata": {},
   "source": [
    "<a id='background'></a>\n",
    "\n",
    "## Background & Prior Work"
   ]
  },
  {
   "attachments": {},
   "cell_type": "markdown",
   "metadata": {},
   "source": [
    "### The Development/History of MBTI and The Meaning of Each Four Personality Aspect\n",
    "\n",
    "MBTI is a personality test that uses personality type-based model, which assesses one’s personality traits and classifies them into different categories. According to the official MBTI website, the model is developed based on Carl Gustav Jung, Katharine Cook Briggs, and Isabel Briggs Myers’s theory in analytical psychology and personality typology. They believe that people are classified by mind into two sub-categories called introverted and extroverted, and based on people’s different cognitive functions, they can also be separated by Tactics into two sub-categories called judging or perceiving. These are the first two categories that these researchers established. Later, they find another two categories, nature, which contains thinking vs. feeling, and energy, which contains observant vs intuitive[^16Personalities]. A letter is used to represent each type of personality in each category.\n",
    "\n",
    "“E” stands for extraverted individuals who are more energetic and prefer social interactions, whereas “I” stands for introverted individuals who acquire energy from solitary activities and focus more on their inner thoughts[^Woods&Hill]. “S” stands for observant individuals who are practical and focus on facts, whereas “N” stands for intuitive individuals who are more imaginative and will trace future possibilities using intuition before facts[^Woods&Hill]. “T” stands for thinking individuals who focus on logic and rationality over emotion, whereas “F” represents feeling individuals who focus on their emotion and are more empathetic[^Woods&Hill]. For the last category, “J” represents judging individuals who prefer an organized and settled lifestyle, whereas “P” refers to individuals who are more flexible and open to all opportunities[^Woods&Hill].\n",
    "\n",
    "### Differences Between MBTI and Other Personality Frameworks\n",
    "\n",
    "Compared to other personality frameworks that use trait-based models, MBTI uses a type-based model such that it can offer more comprehensive information of one’s personality, specifically how they perceive the world and make decisions. For example, the Big Five, a trait-based personality model called, only offers quantitative measurements (percentage in each dimension – Openness, Consciousness, Extroversion, Agreeableness, Neuroticism). The problem with this personality test is that it does not have specific guidelines to tell its users about how to interpret the percentage, especially in cases in which the percentage falls to 50%. For example, if a person received a result that they are 50% extrovert and 50% introvert, the testing result might be less useful without an interpretation of the result [^16Personalities]. In contrast, MBTI analyzes ones’ personality type with information gathered in all four dimensions, and within each dimension, they do a two-end analysis. Therefore, it offers not only quantitative information, but also qualitative descriptions of personality types that describe how one would prefer to interact with other people, learn information, and make decisions [^16Personalities]. \n",
    "\n",
    "In addition, compared to other personality models such as Big Five, MBTI is simpler to understand, and thus popular on social media [^Poddar]. Since we are curious about understanding personality types on social media, where MBTI is widely available in users’ profile, MBTI model would be an ideal choice for us to gain more data and make more convincing analyses. \n",
    "\n",
    "### Contexts and Previous Work\n",
    "\n",
    "Social media platforms such as Twitter are the most popular places these days where people with different MBTI express their feelings in a more anonymous and open way. Theoretically, social media gives introverted people a place to express themselves and participate in online interaction more readily, as they don't need to have face-to-face social interactions with others. However, some research findings indicated that extroverted people are still more active and involved.\n",
    "\n",
    "There is a Sweden research which reveals that people with different personalities in the Big Five Model of personality traits (another popular personality measurement like MBTI) will have different engagement in social media, in which extroverts are more active in usage than introverts[^Roos]. \n",
    "\n",
    "Similarly, in a literature review on “the impact of personality traits on social media use and engagement”, Georgios Lampropoulos, a core faculty at Michigan School of Psychology, and his colleague presented a comprehensive view of concepts in social media and Big Five Personality Traits, and synthesized the latest research findings on personality traits’ impact on social media use [^Lampropoulos.et.al]. Conclusively, they found that compared to other personality traits, openness (a measure of curiosity, creativity, and originality) and extraversion (a measure of social activeness) best positively predict an individual’ s social media use, especially in young adults [^Lampropoulos.et.al]. In another word, people who are more curious, creative, and socially active tend to engage more on social media. \n",
    "\n",
    "Given that Big Five Personality Traits are strongly related to MBTI personalities, Georgios’ review is inspirational for us to study possible correlation between MBTI personality traits and social media engagement. Specifically, according to personalityjunkie, a website that provides transformative insights and expert analyses on personality types, the extraversion in both Big Five and MBTI (E in the Mind aspect) are closely related, and openness in Big Five is correlated with the Intuition (N) in the Nature aspect in MBTI [^Drenth]. Thus, we may infer that individuals with E and N in their MBTI personalities tend to engage more on social media, and build up hypotheses based on this inference.\n",
    "\n",
    "Researchers from University of Cambridge also proposed a similar view point. They studied Twitter user’s personality through data from myPersonality, an online personality test that shares people’s personality score and Twitter profile information to researchers based on user consents [^Quercia.et.al]. Those researchers discovered that, among 335 users, most popular users are extroverts and less likely to fall into Neuroticism, meaning that they are more emotionally stable [^Quercia.et.al]. They are also more imaginative, which is similar to the “N” trait in MBTI [^Quercia.et.al]. Therefore, we can infer that their result also shows that popular people on social are more likely to have “N” and “E” traits.\n",
    "\n",
    "In addition, Today’s Business, a digital marketing organization that aims to improve social media engagement, found through Facebook data that extroverts (E) are 1.5 times more likely to engage on social media compared to introverts (I). The research team even went further to conclude that ENFP and ISTJ have the most significant difference in social engagement [^Today’sBusiness]. Thus, we may also further explore specific personality types (such as ENFP) to observe whether certain MBTI personality types are more active on social media.\n",
    "\n",
    "Although much personality research has been conducted, limited work used the MBTI model, which explores four aspects of personality and measures like feeling versus thinking. Thus, we intend to investigate how one’s personality influences one’s social media engagement and activeness through the MBTI model’s four aspects. \n",
    "\n",
    "\n",
    "References :<br>\n",
    "[^16Personalities]: 16 Personalities. (n.d.). Our framework. 16Personalities. Retrieved May 3, 2023, from https://www.16personalities.com/articles/our-theory <br>\n",
    "[^Drenth]: Drenth, A.J. (n.d.). Big Five Openness, Myers-Briggs (MBTI) Intuition, & IQ Correlations. PersonalityJunkie. Retrieved May 3, 2023, from https://personalityjunkie.com/09/openness-myers-briggs-mbti-intuition-big-five-iq-correlations/#:~:text=The%20Big%20Five%20exhibits%20many%20similarities%20with%20the,with%20Perceiving%20and%20Extraversion%2C%20and%20mildly%20with%20Feeling <br>\n",
    "[^Lampropoulos.et.al]: Lampropoulos, G., Anastasiadis, T., Siakas, K., & Siakas, E. (2022). The Impact of Personality Traits on Social Media Use and Engagement: An Overview. International Journal on Social & Education Sciences (IJonSES), 4(1). Retrieved May 3, 2023, from https://files.eric.ed.gov/fulltext/EJ1332326.pdf <br>\n",
    "[^Poddar] Poddar, D. (2021). Let’s Look into Why the Myers-Briggs Type Indicator is Popular. The Tempest. Retrieved May 16, 2023, from https://thetempest.co/2021/06/23/now-beyond/myers-briggs-type-indicator-popular/#:~:text=This%20is%20reflected%20in%20how%20MBTI%20is%20widespread,type%20and%20even%20outfits%20associated%20with%20each%20type.\n",
    "[^Quercia.et.al]: Quercia, D., Kosinski, M., Stillwell, D., Crowcroft, J (2011, October). ResearchGate. Our Selves: Predicting Personality with Twitter. https://www.researchgate.net/publication/220876237_Our_Twitter_Profiles_Our_Selves_Predicting_Personality_with_Twitter<br>\n",
    "[^Roos]: Roos, J. M. (2023). The Intersection of Personality Traits and Social Media Usage: Large-Scale Representative Samples of Internet Users in Sweden. Psych, 5(1), 70–79. MDPI AG. Retrieved from http://dx.doi.org/10.3390/psych5010008 <br>\n",
    "[^Today’sBusiness]: Today’s Business. (2015). How Personality Theories Affect Social Media Engagement. Today’s Business. Retrieved May 3, 2023, from https://tbsmo.com/social-media/howpersonality-theories-affect-social-media-engagement/ <br>\n",
    "[^Woods&Hill]: Woods, R. A., & Hill, P. B. (2022, September 18). National Center for Biotechnology Information. Myers Brigg. Retrieved May 3, 2023, from https://www.ncbi.nlm.nih.gov/books/NBK554596/ <br>"
   ]
  },
  {
   "attachments": {},
   "cell_type": "markdown",
   "metadata": {},
   "source": [
    "# Hypothesis\n"
   ]
  },
  {
   "attachments": {},
   "cell_type": "markdown",
   "metadata": {},
   "source": [
    "Main hypothesis: \n",
    "There's no statistically significant difference in Twitter users’ activeness and engagement on the social media between four personality aspects in Myers–Briggs MBTI (Mind: E/I, Nature: T/F, Energy: S/N, Tactics: J/P).\n",
    "\n",
    "However, within each aspect, we believe that Extroverted type (E) of people are more active than Introverted (I) type; Feeling (F) people are more active than Thinking type (T);  Intuitive (N) people are more active than Observant type (S); Prospecting (P) people are more active than Judging type(J) type.\n",
    "\n",
    "Explanation:\n",
    "\n",
    "- We believe that the four personality aspects would affect users activeness and engagement equally, because each of them represent different natures and ways that people perceive and process information. Being engaged and active on Twitter is a complex information processing and social computing event, which involves different aspects of personality and no particular aspect (e.g. Mind versus Nature) should dominate. \n",
    "- We believe that there will be some statistical differences within each aspect. All the following reasonings use the official website of MBTI personality test for [reference](https://www.16personalities.com/articles/our-theory):\n",
    "1. E > I (Extroverted being more active than Introverted type): Extraverted individuals get energy from social interaction, which makes them more willing to engage and participate in online activities such as following other users, retweeting, and joining interest groups.\n",
    "2. F > T: “Feeling individuals are sensitive and emotionally expressive.” While Thinking individuals tend to hide their feelings and be objective, Feeling individuals would be more willing to express their feelings, make comments, and retweets on Twitter.\n",
    "3. N > S: Intuitive(N) individuals are curious while Observant individuals (S) are more practical and focus on things happening around them. We believe that Observant people prefer doing or being more concerned about practical things like their own lives and their friends, but Intuitive people may spend more time on social media, being curious about what’s happening in the world.\n",
    "4. P > J: Prospecting (P) people tend to be flexible and more relaxed, being open to different options and opinions, while Judging (J) people are decisive and stick to their plans. We think Judging individuals may be less engaged and active, because they would care more about whatever they like or their plans, while Prospecting(P) people may join different groups, retweet, and follow various users to wander around."
   ]
  },
  {
   "attachments": {},
   "cell_type": "markdown",
   "metadata": {},
   "source": [
    "# Dataset(s)"
   ]
  },
  {
   "attachments": {},
   "cell_type": "markdown",
   "metadata": {},
   "source": [
    "*Fill in your dataset information here*\n",
    "\n",
    "(Copy this information for each dataset)\n",
    "- Dataset Name:\n",
    "- Link to the dataset:\n",
    "- Number of observations:\n",
    "\n",
    "1-2 sentences describing each dataset. \n",
    "\n",
    "If you plan to use multiple datasets, add 1-2 sentences about how you plan to combine these datasets."
   ]
  },
  {
   "attachments": {},
   "cell_type": "markdown",
   "metadata": {},
   "source": [
    "# Setup"
   ]
  },
  {
   "cell_type": "code",
   "execution_count": 1,
   "metadata": {},
   "outputs": [],
   "source": [
    "## YOUR CODE HERE"
   ]
  },
  {
   "attachments": {},
   "cell_type": "markdown",
   "metadata": {},
   "source": [
    "# Data Cleaning"
   ]
  },
  {
   "attachments": {},
   "cell_type": "markdown",
   "metadata": {},
   "source": [
    "Describe your data cleaning steps here."
   ]
  },
  {
   "cell_type": "code",
   "execution_count": 2,
   "metadata": {},
   "outputs": [],
   "source": [
    "## YOUR CODE HERE\n",
    "## FEEL FREE TO ADD MULTIPLE CELLS PER SECTION"
   ]
  },
  {
   "cell_type": "code",
   "execution_count": null,
   "metadata": {},
   "outputs": [],
   "source": []
  },
  {
   "attachments": {},
   "cell_type": "markdown",
   "metadata": {},
   "source": [
    "# Data Analysis & Results"
   ]
  },
  {
   "attachments": {},
   "cell_type": "markdown",
   "metadata": {},
   "source": [
    "Include cells that describe the steps in your data analysis."
   ]
  },
  {
   "cell_type": "code",
   "execution_count": 3,
   "metadata": {},
   "outputs": [],
   "source": [
    "## YOUR CODE HERE\n",
    "## FEEL FREE TO ADD MULTIPLE CELLS PER SECTION"
   ]
  },
  {
   "attachments": {},
   "cell_type": "markdown",
   "metadata": {},
   "source": [
    "# Ethics & Privacy"
   ]
  },
  {
   "attachments": {},
   "cell_type": "markdown",
   "metadata": {},
   "source": [
    "*Fill in your ethics & privacy discussion here*"
   ]
  },
  {
   "attachments": {},
   "cell_type": "markdown",
   "metadata": {},
   "source": [
    "# Conclusion & Discussion"
   ]
  },
  {
   "attachments": {},
   "cell_type": "markdown",
   "metadata": {},
   "source": [
    "*Fill in your discussion information here*"
   ]
  },
  {
   "attachments": {},
   "cell_type": "markdown",
   "metadata": {},
   "source": [
    "# Team Contributions"
   ]
  },
  {
   "attachments": {},
   "cell_type": "markdown",
   "metadata": {},
   "source": [
    "*Specify who in your group worked on which parts of the project.*"
   ]
  }
 ],
 "metadata": {
  "kernelspec": {
   "display_name": "Python 3 (ipykernel)",
   "language": "python",
   "name": "python3"
  },
  "language_info": {
   "codemirror_mode": {
    "name": "ipython",
    "version": 3
   },
   "file_extension": ".py",
   "mimetype": "text/x-python",
   "name": "python",
   "nbconvert_exporter": "python",
   "pygments_lexer": "ipython3",
   "version": "3.8.9"
  }
 },
 "nbformat": 4,
 "nbformat_minor": 2
}
