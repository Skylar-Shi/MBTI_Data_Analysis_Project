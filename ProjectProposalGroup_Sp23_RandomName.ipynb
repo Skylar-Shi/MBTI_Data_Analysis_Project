{
  "cells": [
    {
      "cell_type": "markdown",
      "metadata": {
        "id": "Z-RMOHPUNnir"
      },
      "source": [
        "# COGS 108 - Final Project Proposal"
      ]
    },
    {
      "cell_type": "markdown",
      "metadata": {
        "id": "-WMzHC_PNnis"
      },
      "source": [
        "# Names\n",
        "\n",
        "- Mingyi Li\n",
        "- Yutian Shi\n",
        "- Jinyu Li\n",
        "- Weiwen Dong"
      ]
    },
    {
      "cell_type": "markdown",
      "metadata": {
        "id": "Gop7PCnWNnit"
      },
      "source": [
        "# Research Question"
      ]
    },
    {
      "cell_type": "markdown",
      "metadata": {
        "id": "ek2zMuVfNnit"
      },
      "source": [
        "-  Include a specific, clear data science question.\n",
        "-  Make sure what you're measuring (variables) to answer the question is clear\n",
        "\n",
        "- should be specific, answerable with data, and clear. (1-2 sentences)\n",
        "\n",
        "Do people’s MBTI personality aspects (Mind: E/I, Nature: T/F, Energy: S/N, Tactics: J/P) influence their social media popularity?\n",
        "\n"
      ]
    },
    {
      "cell_type": "markdown",
      "metadata": {
        "id": "lbSkE0yhNniu"
      },
      "source": [
        "## Background and Prior Work"
      ]
    },
    {
      "cell_type": "markdown",
      "metadata": {
        "id": "NaGDlgTBNniu"
      },
      "source": [
        "- Include a general introduction to your topic\n",
        "- Include explanation of what work has been done previously\n",
        "- Include citations or links to previous work\n",
        "\n",
        "background and context of your topic and question in a few paragraphs. Include a general introduction to your topic and then describe what information you currently know about the topic after doing your initial research. \n",
        "\n",
        "Include references to other projects who have asked similar questions or approached similar problems. Explain what others have learned in their projects.\n",
        "\n",
        "Find some relevant prior work, and reference those sources, summarizing what each did and what they learned. Even if you think you have a totally novel question, find the most similar prior work that you can and discuss how it relates to your project.\n",
        "\n",
        "References can be research publications, but they need not be. Blogs, GitHub repositories, company websites, etc., are all viable references if they are relevant to your project. It must be clear which information comes from which references. (2-3 paragraphs, including at least 2 references)\n",
        "\n",
        " **Use inline citation through Markdown footnotes to specify which references support which statements** \n",
        "\n",
        "For example: After government genocide in the 20th century, real birds were replaced with surveillance drones designed to look just like birds[^lorenz]. \n",
        "Use a minimum of 2 or 3 citations, but we prefer more[^admonish]. You need enough to fully explain and back up important facts. \n",
        "\n",
        "[^lorenz]: Lorenz, T. (9 Dec 2021) Birds Aren’t Real, or Are They? Inside a Gen Z Conspiracy Theory. *The New York Times*. https://www.nytimes.com/2021/12/09/technology/birds-arent-real-gen-z-misinformation.html \n",
        "[^admonish]: Also refs should be important to the background, not some randomly chosen vaguely related stuff. Include a web link if possible in refs as above.\n",
        "\n"
      ]
    },
    {
      "cell_type": "markdown",
      "metadata": {
        "id": "yxG8iVD5Nniv"
      },
      "source": [
        "# Hypothesis\n"
      ]
    },
    {
      "cell_type": "markdown",
      "metadata": {
        "id": "T9whzSmlNniv"
      },
      "source": [
        "\n",
        "- Include your team's hypothesis\n",
        "- Ensure that this hypothesis is clear to readers\n",
        "- Explain why you think this will be the outcome (what was your thinking?)\n",
        "\n",
        "- main hypothesis/predictions about what the answer to your question is? Briefly explain your thinking. (2-3 sentences)\n",
        "\n",
        "Main hypothesis: There's no statistical difference in people's popularity on the social media platforms between four personality aspects in MBTI (Mind: E/I, Nature: T/F, Energy: S/N, Tactics: J/P).\n",
        "\n",
        "However, within each aspect, we belive that Extroverted type (E) of people are more popular than Introverted (I) people; Feeling (F) are more popular than Thinking type (T);  Intuitive (N) are more popular than Observant type (S); Prospecting (P) are more popular than Judging type(J) type."
      ]
    },
    {
      "cell_type": "markdown",
      "metadata": {
        "id": "Zo-v5PYSNniv"
      },
      "source": [
        "# Data"
      ]
    },
    {
      "cell_type": "markdown",
      "metadata": {
        "id": "ckvQyLyMNniv"
      },
      "source": [
        "1. Explain what the **ideal** dataset you would want to answer this question. (This should include: What variables? How many observations? Who/what/how would these data be collected? How would these data be stored/organized?)\n",
        "1. Search for potential **real** datasets that could provide you with something useful for this project.  You do not have to find every piece of data you will use, but you do need to have demonstrated some idea that (a) this data is gettable and (b) that this data may be different from what your ideal is"
      ]
    },
    {
      "cell_type": "markdown",
      "metadata": {
        "id": "RLMP_buMNniw"
      },
      "source": [
        "# Ethics & Privacy"
      ]
    },
    {
      "cell_type": "markdown",
      "metadata": {
        "id": "j6Xaf7ObNniw"
      },
      "source": [
        "- Thoughtful discussion of ethical concerns included\n",
        "- Ethical concerns consider the whole data science process (question asked, data collected, data being used, the bias in data, analysis, post-analysis, etc.)\n",
        "- How your group handled bias/ethical concerns clearly described\n",
        "\n",
        "Acknowledge and address any ethics & privacy related issues of your question(s), proposed dataset(s), and/or analyses. Use the information provided in lecture to guide your group discussion and thinking. If you need further guidance, check out [Deon's Ethics Checklist](http://deon.drivendata.org/#data-science-ethics-checklist). In particular:\n",
        "\n",
        "- Are there any biases/privacy/terms of use issues with the data you propsed?\n",
        "- Are there potential biases in your dataset(s), in terms of who it composes, and how it was collected, that may be problematic in terms of it allowing for equitable analysis? (For example, does your data exclude particular populations, or is it likely to reflect particular human biases in a way that could be a problem?)\n",
        "- How will you set out to detect these specific biases before, during, and after/when communicating your analysis?\n",
        "- Are there any other issues related to your topic area, data, and/or analyses that are potentially problematic in terms of data privacy and equitable impact?\n",
        "- How will you handle issues you identified?\n",
        "\n",
        "### Question\n",
        "\n",
        "- Our question is to explore whether there is correlation between MBTI personality traits and user activity levels on social media. In addition, we would also like to use general attributes of individuals and posts in social media to predict individuals' personalities. We believe our question is well-posted since it does not contain any biased or discriminatory term. \n",
        "- Our scope of investigation is mainly users in Twitter. Thus, we may inevitably track correlation that is specific to Twitter users rather than general social media users. To deal with this possible issue of generalization, we may consider to also include data from other social media platforms or narrow down our question to only study Twitter users’ MBTI characteristics\n",
        "- Our purpose of asking this question is to eliminate stereotypes associated with personalities on social media, which would be beneficial for the public\n",
        "\n",
        "### Data Collection\n",
        "\n",
        "- Our Twitter dataset included 8,328 Twitter users who reported their MBTI personalities in their profile. Although we did not have informed consent from users, the profile information is publicly viewable and the data is self-reported. Thus, we believe the MBTI information on the public profile is usable. To ensure that all users’ privacies are protected, we will remove all users’ personally identifiable information such as usernames, screen names, and locations.\n",
        "- Since the data is self-reported, a possible bias is that people with certain MBTI personalities may be more likely to reveal their identity than others. Thus, the distribution of MBTIs in our data may not reflect the true distribution. \n",
        "\n",
        "### The Data \n",
        "\n",
        "- There is plentiful available data related to MBTI on social media. The data is closely related to our question, though we may need to combine some features (such as number of flowers, friends, and listed) to create measurement for user activity levels and extract useful keywords from posts to predict personalities.\n",
        "\n",
        "### Bias in Data\n",
        "The data may contain biases that exclude some populations: \n",
        "- Since our study focuses on each person's personality type using MBTI, it excludes people who didn't complete this test or are not aware of/not interested in receiving the MBTI test.\n",
        "- The main dataset we use investigates Twitter users. If we are not able to include additional datasets, it's biased to generalize it into \"social media platforms\" because users may be active on other platforms but not on Twitter. Also, older adults and those who are not familiar with such technology will be excluded.\n",
        "\n",
        "### Data Analysis \n",
        "- We plan to conduct two types of analyses: inferential and predictive. During these processes, we want to test the association between certain personality traits in MBTI and people’s popularity on the social media platform. There may exist possible covariates such as people’s occupations and ages (which may affect users’ popularity), but since in each trait of the personality (e.g. E/I, S/N), this personal information should be evenly spread out, we don’t consider it as a confounding factor.\n",
        "- Another possible bias in the analysis is the uneven number of data across each trait(e.g. certain personality types may be more likely to test their MBTI and be included in the dataset). To counter such bias, we will use the same data size or calculate the mean/median for each group (E/I, S/N) to analyze.\n",
        "\n",
        "### Post-Analysis\n",
        "Once we complete our algorithm, we would make disclaimer about possible biases or stigmas (the results is not implying certain personality types are better than others). Also, we will track the data changes such as the amount of each trait being included and update our datasets if significantly more data is introduced. "
      ]
    },
    {
      "cell_type": "markdown",
      "metadata": {
        "id": "dwB06_O7Nniw"
      },
      "source": [
        "# Team Expectations "
      ]
    },
    {
      "cell_type": "markdown",
      "metadata": {
        "id": "LzJn3SdxNniw"
      },
      "source": [
        "\n",
        "Read over the [COGS108 Team Policies](https://github.com/COGS108/Projects/blob/master/COGS108_TeamPolicies.md) individually. Then, include your group’s expectations of one another for successful completion of your COGS108 project below. Discuss and agree on what all of your expectations are. Discuss how your team will communicate throughout the quarter and consider how you will communicate respectfully should conflicts arise. By including each member’s name above and by adding their name to the submission, you are indicating that you have read the COGS108 Team Policies, accept your team’s expectations below, and have every intention to fulfill them. These expectations are for your team’s use and benefit — they won’t be graded for their details.\n",
        "\n",
        "* Everyone should try their best to attend all scheduled meetings. If you can’t, you should ask team members to keep yourself updated and complete the assigned tasks.\n",
        "* Each team member should contribute/ talk during each meeting. \n",
        "* All team members should contribute equally across the entire project submission.\n",
        "* All team members should be collaborative.\n",
        "* If you cannot finish your assigned work on time, please notify other teammates at least one day in advance and tell them the reason.\n",
        "* If you struggled completing your assigned parts, please reach out to your team members immediately. When needed, switch parts with other team members based on their agreements to ensure that we can finish the project on time and that everyone contributes equally.\n",
        "* Please update your progress regularly. If a group member reached out to you, please be sure to respond in a timely manner.\n",
        "* Check each other’s work after everyone finishes to make good-quality work.\n",
        "* Each member should complete assigned tasks before deadlines.\n",
        "* If a team member refuses to cooperate or complete their assigned tasks that you all have agreed upon, email or directly message the professor.\n"
      ]
    },
    {
      "cell_type": "markdown",
      "metadata": {
        "id": "Z5jI2wKlNnix"
      },
      "source": [
        "# Project Timeline Proposal"
      ]
    },
    {
      "cell_type": "markdown",
      "metadata": {
        "id": "2b4e0he0Nnix"
      },
      "source": [
        "\n",
        "If you think you will need any special resources or training outside what we have covered in COGS 108 to solve your problem, then your proposal should state these clearly. **For example, if you have selected a problem that involves implementing multiple neural networks, please state this so we can make sure you know what you’re doing and so we can point you to resources you will need to implement your project. Note that you are not required to use outside methods.**\n",
        "\n",
        "\n",
        "\n",
        "| Meeting Date  | Meeting Time| Completed Before Meeting  | Discuss at Meeting |\n",
        "|---|---|---|---|\n",
        "| 5/1  |  7 PM | Read & Think about expectations; brainstorm topics/questions| Discuss and decide on final project topic; discuss hypothesis; begin background research; Discuss and find ideal datasets(s); Assign parts to team members; draft project proposals   | \n",
        "| 5/2  |  8 PM |  Do more background research, Finish assigned parts (excluding background) | Finish background research part and project proposal | \n",
        "| 5/10  | 7 PM  | Finalize Dataset and Research on analysis technique to be used  | Discuss Wrangling and possible analytical approaches; Assign group members to lead each specific part   |\n",
        "| 5/12  | 6 PM  | Import & Wrangle Data (Mingyi, Weiwen); EDA (Yutian, Jinyu)| Review/Edit wrangling/EDA; Discuss Analysis Plan |\n",
        "| 5/16  | 7 PM  | Finalize wrangling/EDA ; Begin Analysis| Discuss/edit Analysis(Mingyi, Yutian); Complete project check-in (Weiwen, Jinyu)|\n",
        "| 5/30  | 8 PM  | Complete analysis (Yutian, Weiwen); Draft results/conclusion/discussion (Jinyu, Mingyi)| Discuss/edit full project |\n",
        "| 6/6  | 7 PM | Finalize project, Finish final edits | Record and Finish Final videos |\n",
        "| 6/15  | Before 11:59 PM  | Final checks over all parts of project | Turn in Final Project & Group Project Surveys |"
      ]
    }
  ],
  "metadata": {
    "kernelspec": {
      "display_name": "Python 3",
      "language": "python",
      "name": "python3"
    },
    "language_info": {
      "codemirror_mode": {
        "name": "ipython",
        "version": 3
      },
      "file_extension": ".py",
      "mimetype": "text/x-python",
      "name": "python",
      "nbconvert_exporter": "python",
      "pygments_lexer": "ipython3",
      "version": "3.8.8"
    },
    "colab": {
      "provenance": []
    }
  },
  "nbformat": 4,
  "nbformat_minor": 0
}