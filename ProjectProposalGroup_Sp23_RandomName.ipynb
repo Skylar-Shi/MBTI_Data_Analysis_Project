{
 "cells": [
  {
   "cell_type": "markdown",
   "metadata": {
    "id": "Z-RMOHPUNnir"
   },
   "source": [
    "# COGS 108 - Final Project Proposal"
   ]
  },
  {
   "cell_type": "markdown",
   "metadata": {
    "id": "-WMzHC_PNnis"
   },
   "source": [
    "# Names\n",
    "\n",
    "- Mingyi Li\n",
    "- Yutian Shi\n",
    "- Jinyu Li\n",
    "- Weiwen Dong"
   ]
  },
  {
   "cell_type": "markdown",
   "metadata": {
    "id": "Gop7PCnWNnit"
   },
   "source": [
    "# Research Question"
   ]
  },
  {
   "cell_type": "markdown",
   "metadata": {
    "id": "ek2zMuVfNnit"
   },
   "source": [
    "Do Twitter users’ four different Myers–Briggs MBTI personality aspects (Mind: E/I, Nature: T/F, Energy: S/N, Tactics: J/P) influence their social media activeness and engagement? Within each aspect, are people with certain personality traits being more active and engaged than others, such as Extroverts versus Introverts within the Mind aspect?\n",
    "\n",
    "(*Note: We will calculate the social media engagement index by a combination of data points such as the number of followers, favorites, and retweets.)"
   ]
  },
  {
   "cell_type": "markdown",
   "metadata": {
    "id": "lbSkE0yhNniu"
   },
   "source": [
    "## Background and Prior Work"
   ]
  },
  {
   "cell_type": "markdown",
   "metadata": {
    "id": "NaGDlgTBNniu"
   },
   "source": [
    "### The Development History of MBTI and Meaning to the Letter of Each Personality Type\n",
    "\n",
    "MBTI is a personality test that uses personality type-based model, which is a model that assesses one’s personality traits and classifies them into different categories. According to the official MBTI website, the model is developed based on Carl Gustav Jung, Katharine Cook Briggs, and Isabel Briggs Myers’s theory in analytical psychology and personality typology (16 Personalities). They believe that people are classified by mind into two sub-categories called introverted and extroverted, and based on people’s different cognitive functions, they can also be separated by Tactics into two sub-categories called judging or perceiving (16 Personalities). These are the first two categories that these researchers established. Later, they find another two categories, nature, which contains thinking vs. feeling, and energy, which contains observant vs intuitive (16 Personalities). A letter is used to represent each type of personality in each category.\n",
    "\n",
    "“E” stands for extraverted individuals who are more energetic and prefer social interactions, whereas “I” stands for introverted individuals who acquire energy from solitary activities and focus more on their inner thoughts (Woods & Hill, 2022). “S” stands for observant individuals who are practical and focus on facts, whereas “N” stands for intuitive individuals who are more imaginative and will trace future possibilities using intuition before facts (Woods & Hill, 2022). “T” stands for thinking individuals who focus on logic and rationality over emotion, whereas “F” represents feeling individuals who focus on their emotion and are more empathetic (Woods & Hill, 2022). For the last category, “J” represents judging individuals who prefer an organized and settled lifestyle, whereas “P” refers to individuals who are more flexible and open to all opportunities (Woods & Hill, 2022).\n",
    "\n",
    "\n",
    "### Contexts and Previous Work\n",
    "\n",
    "Social media are the most popular platforms these days where people with different MBTI express their feelings in a more anonymous and open way. Hypothetically, social media gives introverted people a platform to express themselves and conduct social interaction more readily, and there should be no strong association between personality and usage. However, conflicting results have been seen in research. \n",
    "\n",
    "There is Sweden research that proves people with different personalities in the Big Five Model of personality traits (another popular personality measurement like MBTI) will have different engagement in social media, in which extroverts are more active in usage than introverts [^Roos]. \n",
    "\n",
    "Similarly, in a literature review on “the impact of personality traits on social media use and engagement”, Georgios Lampropoulos, a core faculty at Michigan School of Psychology, and his colleague presented a comprehensive view of concepts in social media and Big Five Personality Traits, and synthesized the latest research findings on personality traits’ impact on social media use [^Lampropoulos et al]. Conclusively, they found that compared to other personality traits, openness (a measure of curiosity, creativity, and originality) and extraversion (a measure of social activeness) best positively predict an individual’ s social media use, especially in young adults [^Lampropoulos et al]. In another word, people that are more curious, creative, and socially active tend to engage more on social media. \n",
    "\n",
    "Given that Big Five Personality Traits are strongly correlated to MBTI personalities, Georgios’ review is inspirational for us to study possible correlation between MBTI personality traits and social media engagement. Specifically, according to personalityjunkie, a website that provides transformative insights and expert analyses on personality types, the extraversion in both Big Five and MBTI (E in the Mind dimension) are closely related, and openness in Big Five is correlated with the Intuition (N) in the Nature dimension of MBTI [^Drenth]. Thus, we may infer that individuals with E and N in their MBTI personalities tend to engage more on social media, and build up hypotheses based on this inference.\n",
    "\n",
    "In addition, Today’s Business, a digital marketing organization that aims to improve social media engagement, found through Facebook data that extroverts (E) are 1.5 times more likely to engage on social media compared to introverts (I). The research team even went further to conclude that ENFP and ISTJ have the most significant difference in social engagement [^Today’s Business]. Thus, we may also further explore specific personality types (such as ENFP) to observe whether certain MBTI personality types are more active on social media.\n",
    "\n",
    "Researchers from University of Cambridge also proposed a similar view point. They studied Twitter user’s personality through data from myPersonality, an online personality test that shares people’s personality score and Twitter profile information to researchers based on user consents [^Quercia et al]. Those researchers discovered that, among 335 users, most popular users are extroverts and less likely to fall into Neuroticism, meaning that they are more emotionally stable [^Quercia et al]. They are also more imaginative, which is similar to the “N” trait in MBTI [^Quercia et al]. Since their result stated that popular people are more likely to have “N” and “E” traits, their result aligns with our hypothesis that different MBTI personalities influence people’s social media popularity.\n",
    "\n",
    "Although much personality research has been conducted, limited work is conducted by using the MBTI model, which allows for four dimensions of personality and measures like feeling versus thinking. Thus, we intend to investigate how one’s personality influences one’s social media popularity through the MBTI model’s four dimensions. \n",
    "\n",
    "\n",
    "Citations:<br>\n",
    "[^16 Personalities]: 16 Personalities. (n.d.). Our framework. 16Personalities. Retrieved May 3, 2023, from https://www.16personalities.com/articles/our-theory <br>\n",
    "[^Drenth]: Drenth, A.J. (n.d.). Big Five Openness, Myers-Briggs (MBTI) Intuition, & IQ Correlations. PersonalityJunkie. Retrieved May 3, 2023, from https://personalityjunkie.com/09/openness-myers-briggs-mbti-intuition-big-five-iq-correlations/#:~:text=The%20Big%20Five%20exhibits%20many%20similarities%20with%20the,with%20Perceiving%20and%20Extraversion%2C%20and%20mildly%20with%20Feeling <br>\n",
    "[^Lampropoulos et al]: Lampropoulos, G., Anastasiadis, T., Siakas, K., & Siakas, E. (2022). The Impact of Personality Traits on Social Media Use and Engagement: An Overview. International Journal on Social & Education Sciences (IJonSES), 4(1). Retrieved May 3, 2023, from https://files.eric.ed.gov/fulltext/EJ1332326.pdf <br>\n",
    "[^Quercia et al]: Quercia, D., Kosinski, M., Stillwell, D., Crowcroft, J (2011, October). ResearchGate. Our Selves: Predicting Personality with Twitter. https://www.researchgate.net/publication/220876237_Our_Twitter_Profiles_Our_Selves_Predicting_Personality_with_Twitter<br>\n",
    "[^Roos]: Roos, J. M. (2023). The Intersection of Personality Traits and Social Media Usage: Large-Scale Representative Samples of Internet Users in Sweden. Psych, 5(1), 70–79. MDPI AG. Retrieved from http://dx.doi.org/10.3390/psych5010008 <br>\n",
    "[^Today’s Business]: Today’s Business. (2015). How Personality Theories Affect Social Media Engagement. Today’s Business. Retrieved May 3, 2023, from https://tbsmo.com/social-media/howpersonality-theories-affect-social-media-engagement/ <br>\n",
    "[^Woods]: Woods, R. A., & Hill, P. B. (2022, September 18). National Center for Biotechnology Information. Myers Brigg. Retrieved May 3, 2023, from https://www.ncbi.nlm.nih.gov/books/NBK554596/ <br>"
   ]
  },
  {
   "cell_type": "markdown",
   "metadata": {
    "id": "yxG8iVD5Nniv"
   },
   "source": [
    "# Hypothesis\n"
   ]
  },
  {
   "cell_type": "markdown",
   "metadata": {
    "id": "T9whzSmlNniv"
   },
   "source": [
    "Main hypothesis: \n",
    "There's no statistically significant difference in Twitter users’ activeness and engagement on the social media between four personality aspects in Myers–Briggs MBTI (Mind: E/I, Nature: T/F, Energy: S/N, Tactics: J/P).\n",
    "\n",
    "However, within each aspect, we believe that Extroverted type (E) of people are more active than Introverted (I) people; Feeling (F) people are more active than Thinking type (T);  Intuitive (N) people are more active than Observant type (S); Prospecting (P) are more active than Judging type(J) type.\n",
    "\n",
    "Explanation:\n",
    "\n",
    "- We believe that the four personality aspects would affect their activeness and engagement equally, because each of them represent different natures and ways that people perceive and process information. Being engaged and active on Twitter is a complex social computing event, which involves different aspects of personality and no particular aspect (e.g. Mind versus Nature) should dominate. \n",
    "- We believe that there will be some statistical differences within each aspect. All the following reasonings use the official website of MBTI personality test for [reference](https://www.16personalities.com/articles/our-theory):\n",
    "1. E > I (Extroverted being more active than Introverted type): Extraverted individuals get energy from social interaction, which makes them more willing to engage and participate in online activities such as following other users, retweeting, and joining interest groups.\n",
    "2. F > T: “Feeling individuals are sensitive and emotionally expressive.” While Thinking individuals tend to hide their feelings and be objective, Feeling individuals would be more willing to express their feelings, make comments, and retweets on Twitter.\n",
    "3. N > S: Intuitive(N) individuals are curious while Observant individuals (S) are more practical and focus on their own lives. We believe that Observant people prefer doing or being more concerned about practical things like their own lives and their friends, but Intuitive people may spend more time on social media, being curious about what’s happening in the world.\n",
    "4. P > J: Prospecting (P) people tend to be flexible and more relaxed, being open to different options and opinions, while Judging (J) people are decisive and stick to their plans. We think Judging individuals may be less engaged and active, because they would care more about whatever they like or their plans, while Prospecting(P) people may join different groups, retweet, and follow various users to wander around."
   ]
  },
  {
   "cell_type": "markdown",
   "metadata": {
    "id": "Zo-v5PYSNniv"
   },
   "source": [
    "# Data"
   ]
  },
  {
   "cell_type": "markdown",
   "metadata": {
    "id": "ckvQyLyMNniv"
   },
   "source": [
    "1. The ideal dataset we would want:\n",
    "- Data Collection: ideally, we want the data to not be self-reported. Twitter users will receive their personality tests in the same setting with the same question sets (e.g. number of questions, versions). \n",
    "- Variables: we need variables to measure Twitter users’ activeness and engagement, so variables like the count of followers, followings, posts, and retweets would be helpful in measuring how they interact with others. Additionally, some subjective variables like the average time they spend on Twitter, the maximum continuous days online, the number of viewed and favorite tweets would be helpful in understanding those who prefer browsing content rather than interacting with other users. Combining these factors together, we could calculate a social media engagement index to reflect how people interact and spend time on Twitter.\n",
    "- Observations: more than 2000 users would be preferred because there are 16 personality types in total, we want a large enough set to make conclusions and find some interesting patterns.\n",
    "Data storage: all identifiable information including account name and id should be removed. Other data will be stored in .csv or .json format, categorized by each personality type.\n",
    "\n",
    "1. The real dataset we found:\n",
    "- We found [Twitter MBTI Personality Types Dataset](https://www.kaggle.com/datasets/sanketrai/twitter-mbti-dataset?select=user_info.csv) from Kaggle. \n",
    "  - Advantages:\n",
    "The current dataset contains many variables that we need to measure the engagement index:  counts of followers, friends, listed groups, favorites, quotes, retweets, mentions, and hashtags, which would be useful to reflect how active Twitter users are. \n",
    "The number of observations is 8328, which is large enough to test our hypothesis.\n",
    "  - Disadvantages:\n",
    "Some variables that reflect how much time people spend on Twitter are missing since it focuses more on the scrapable data. However, we could measure our engagement index by how active they interact with others or make posts, which would be fair because if people just browse content without commenting on anything, they are not as active and engaged as others.\n",
    "Some personal information is not removed, such as id, name, and location.\n",
    "- If we are able to find the dataset from other social media platforms or the dataset containing information about how much time people spend on Twitter, we may change our research question a bit to generalize it to more population.\n",
    "- The other dataset we found is [MBTI Personality Type Twitter Dataset](https://www.kaggle.com/datasets/mazlumi/mbti-personality-type-twitter-dataset) from Kaggle. It includes the user’s personality type and posts they made. We may use it to count how many total posts each personality type of users make in order to measure engagement index. However, it could also be used in some semantic analysis or explorative analysis where we can find some behavioral patterns (e.g. most frequent words or emojis) of each type of Twitter user."
   ]
  },
  {
   "cell_type": "markdown",
   "metadata": {
    "id": "RLMP_buMNniw"
   },
   "source": [
    "# Ethics & Privacy"
   ]
  },
  {
   "cell_type": "markdown",
   "metadata": {
    "id": "j6Xaf7ObNniw"
   },
   "source": [
    "\n",
    "### Question\n",
    "\n",
    "- Our question is to explore whether there is correlation between MBTI personality traits and user activity levels on social media. In addition, we would also like to use general attributes of individuals and posts in social media to predict individuals' personalities. We believe our question is well-posted since it does not contain any biased or discriminatory term. \n",
    "- Our scope of investigation is mainly users in Twitter. Thus, we may inevitably track correlation that is specific to Twitter users rather than general social media users. To deal with this possible issue of generalization, we may consider to also include data from other social media platforms or narrow down our question to only study Twitter users’ MBTI characteristics\n",
    "- Our purpose of asking this question is to eliminate stereotypes associated with personalities on social media, which would be beneficial for the public\n",
    "\n",
    "### Data Collection\n",
    "\n",
    "- Our Twitter dataset included 8,328 Twitter users who reported their MBTI personalities in their profile. Although we did not have informed consent from users, the profile information is publicly viewable and the data is self-reported. Thus, we believe the MBTI information on the public profile is usable. To ensure that all users’ privacies are protected, we will remove all users’ personally identifiable information such as usernames, screen names, and locations.\n",
    "- Since the data is self-reported, a possible bias is that people with certain MBTI personalities may be more likely to reveal their identity than others. Thus, the distribution of MBTIs in our data may not reflect the true distribution. \n",
    "\n",
    "### The Data \n",
    "\n",
    "- There is plentiful available data related to MBTI on social media. The data is closely related to our question, though we may need to combine some features (such as number of followers, friends, and listed) to create measurement for user activeness and extract useful keywords from posts to predict personalities.\n",
    "- All of our dataset is from kaggle, a popular community for data scientists with wide-scale of reliable datasets.\n",
    "- Our main dataset contains MBTI data of 8,328 Twitter users and 1.5 million tweets, which will help us to make reliable inference\n",
    "- A possible bias is that all tweets in our data are collected between January - March 2020, which is in the period of pandemic. Thus, the users’ performance may differ in this period than other periods. In addition, although the data was collected worldwide, there may be less data with users from certain countries and age groups that do not commonly use Twitter. In future, we may explore more social platforms to better represent a more diverse group of social media users.\n",
    "\n",
    "\n",
    "### Bias in Data\n",
    "The data may contain biases that exclude some populations: \n",
    "- Since our study focuses on each person's personality type using MBTI, it excludes people who didn't complete this test or are not aware of/not interested in receiving the MBTI test.\n",
    "- The main dataset we use investigates Twitter users. If we are not able to include additional datasets, it's biased to generalize it into \"social media platforms\" because users may be active on other platforms but not on Twitter. Also, older adults and those who are not familiar with such technology will be excluded.\n",
    "\n",
    "### Data Analysis \n",
    "- We plan to conduct two types of analyses: inferential and predictive. During these processes, we want to test the association between certain personality traits in MBTI and people’s popularity on the social media platform. There may exist possible covariates such as people’s occupations and ages (which may affect users’ popularity), but since in each trait of the personality (e.g. E/I, S/N), this personal information should be evenly spread out, we don’t consider it as a confounding factor.\n",
    "- Another possible bias in the analysis is the uneven number of data across each trait(e.g. certain personality types may be more likely to test their MBTI and be included in the dataset). To counter such bias, we will use the same data size or calculate the mean/median for each group (E/I, S/N) to analyze.\n",
    "\n",
    "### Post-Analysis\n",
    "Once we complete our algorithm, we would make disclaimer about possible biases or stigmas (the results is not implying certain personality types are better than others). Also, we will track the data changes such as the amount of each trait being included and update our datasets if significantly more data is introduced. "
   ]
  },
  {
   "cell_type": "markdown",
   "metadata": {
    "id": "dwB06_O7Nniw"
   },
   "source": [
    "# Team Expectations "
   ]
  },
  {
   "cell_type": "markdown",
   "metadata": {
    "id": "LzJn3SdxNniw"
   },
   "source": [
    "\n",
    "Read over the [COGS108 Team Policies](https://github.com/COGS108/Projects/blob/master/COGS108_TeamPolicies.md) individually. Then, include your group’s expectations of one another for successful completion of your COGS108 project below. Discuss and agree on what all of your expectations are. Discuss how your team will communicate throughout the quarter and consider how you will communicate respectfully should conflicts arise. By including each member’s name above and by adding their name to the submission, you are indicating that you have read the COGS108 Team Policies, accept your team’s expectations below, and have every intention to fulfill them. These expectations are for your team’s use and benefit — they won’t be graded for their details.\n",
    "\n",
    "* Everyone should try their best to attend all scheduled meetings. If you can’t, you should ask team members to keep yourself updated and complete the assigned tasks.\n",
    "* Each team member should contribute/ talk during each meeting. \n",
    "* All team members should contribute equally across the entire project submission.\n",
    "* All team members should be collaborative.\n",
    "* If you cannot finish your assigned work on time, please notify other teammates at least one day in advance and tell them the reason.\n",
    "* If you struggled completing your assigned parts, please reach out to your team members immediately. When needed, switch parts with other team members based on their agreements to ensure that we can finish the project on time and that everyone contributes equally.\n",
    "* Please update your progress regularly. If a group member reached out to you, please be sure to respond in a timely manner.\n",
    "* Check each other’s work after everyone finishes to make good-quality work.\n",
    "* Each member should complete assigned tasks before deadlines.\n",
    "* If a team member refuses to cooperate or complete their assigned tasks that you all have agreed upon, email or directly message the professor.\n"
   ]
  },
  {
   "cell_type": "markdown",
   "metadata": {
    "id": "Z5jI2wKlNnix"
   },
   "source": [
    "# Project Timeline Proposal"
   ]
  },
  {
   "cell_type": "markdown",
   "metadata": {
    "id": "2b4e0he0Nnix"
   },
   "source": [
    "\n",
    "If you think you will need any special resources or training outside what we have covered in COGS 108 to solve your problem, then your proposal should state these clearly. **For example, if you have selected a problem that involves implementing multiple neural networks, please state this so we can make sure you know what you’re doing and so we can point you to resources you will need to implement your project. Note that you are not required to use outside methods.**\n",
    "\n",
    "\n",
    "\n",
    "| Meeting Date  | Meeting Time| Completed Before Meeting  | Discuss at Meeting |\n",
    "|---|---|---|---|\n",
    "| 5/1  |  7 PM | Read & Think about expectations; brainstorm topics/questions| Discuss and decide on final project topic; discuss hypothesis; begin background research; Discuss and find ideal datasets(s); Assign parts to team members; draft project proposals   | \n",
    "| 5/2  |  8 PM |  Do more background research, Finish assigned parts (excluding background) | Finish background research part and project proposal | \n",
    "| 5/10  | 7 PM  | Finalize Dataset and Research on analysis technique to be used  | Discuss Wrangling and possible analytical approaches; Assign group members to lead each specific part   |\n",
    "| 5/12  | 6 PM  | Import & Wrangle Data (Mingyi, Weiwen); EDA (Yutian, Jinyu)| Review/Edit wrangling/EDA; Discuss Analysis Plan |\n",
    "| 5/16  | 7 PM  | Finalize wrangling/EDA ; Begin Analysis| Discuss/edit Analysis(Mingyi, Yutian); Complete project check-in (Weiwen, Jinyu)|\n",
    "| 5/30  | 8 PM  | Complete analysis (Yutian, Weiwen); Draft results/conclusion/discussion (Jinyu, Mingyi)| Discuss/edit full project |\n",
    "| 6/6  | 7 PM | Finalize project, Finish final edits | Record and Finish Final videos |\n",
    "| 6/15  | Before 11:59 PM  | Final checks over all parts of project | Turn in Final Project & Group Project Surveys |"
   ]
  }
 ],
 "metadata": {
  "colab": {
   "provenance": []
  },
  "kernelspec": {
   "display_name": "Python 3 (ipykernel)",
   "language": "python",
   "name": "python3"
  },
  "language_info": {
   "codemirror_mode": {
    "name": "ipython",
    "version": 3
   },
   "file_extension": ".py",
   "mimetype": "text/x-python",
   "name": "python",
   "nbconvert_exporter": "python",
   "pygments_lexer": "ipython3",
   "version": "3.8.9"
  }
 },
 "nbformat": 4,
 "nbformat_minor": 1
}
